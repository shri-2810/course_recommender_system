{
  "cells": [
    {
      "cell_type": "code",
      "execution_count": null,
      "id": "5e09a0b6",
      "metadata": {
        "id": "5e09a0b6",
        "outputId": "f2f61bfa-7e49-40b5-8424-2d3fe0d46efe"
      },
      "outputs": [
        {
          "name": "stdout",
          "output_type": "stream",
          "text": [
            "Enter your required skill :Data science\n",
            "Closest matches: ['Data Scientist', 'SQL for Data Science', 'SQL for Data Science']\n",
            "SQL for Data Science\n",
            "Course suggested for you : \n",
            "\n",
            "1 . SQL for Data Science\n",
            "2 . SQL for Data Science\n",
            "3 . SQL for Data Science with R\n",
            "4 . SQL for Data Analysis\n",
            "5 . SQL for Data Analysis\n",
            "6 . SQL for Data Science Capstone Project\n",
            "7 . Learn SQL Basics for Data Science Specialization\n",
            "8 . Databases and SQL for Data Science with Python\n",
            "9 . Databases and SQL for Data Science with Python\n"
          ]
        }
      ],
      "source": [
        "#importing dependencies\n",
        "import numpy as np\n",
        "import pandas as pd\n",
        "import difflib\n",
        "from sklearn.feature_extraction.text import TfidfVectorizer\n",
        "from sklearn.metrics.pairwise import cosine_similarity\n",
        "\n",
        "#data collection and preprocessing\n",
        "#loading data from csv to panda data frame\n",
        "course_data = pd.read_csv('/Users/shrinithiramkumar/Downloads/aassc1.csv')\n",
        "\n",
        "sentence = course_data[\"Title\"] +\" \" +course_data[\"Sub-Category\"]\n",
        "\n",
        "#number of rows and columns in data frame\n",
        "course_data.shape\n",
        "\n",
        "#selecting relevant features for recommendation\n",
        "selected_features = ['Title','Skills','Sub-Category','Duration']\n",
        "\n",
        "#replacing null values with null string\n",
        "for feature in selected_features:\n",
        "    course_data[feature] = course_data[feature].fillna('')\n",
        "\n",
        "#converting text to feature vectors\n",
        "vectorizer = TfidfVectorizer()\n",
        "feature_vectors = vectorizer.fit_transform(sentence)\n",
        "#cosine similarity\n",
        "#getting similarity scores\n",
        "simiarity = cosine_similarity(feature_vectors)\n",
        "\n",
        "#getting course name from user\n",
        "category = input('Enter your required skill :')\n",
        "list_of_all_titles = course_data['Title'].tolist()\n",
        "# Finding closest matches for the given skill\n",
        "find_close_matches = difflib.get_close_matches(category,list_of_all_titles)\n",
        "\n",
        "if find_close_matches:\n",
        "    print(\"Closest matches:\", find_close_matches)\n",
        "\n",
        "else:\n",
        "    print(\"No close matches found.\")\n",
        "close_match = find_close_matches[1]\n",
        "print(close_match)\n",
        "index_of_the_course = course_data[course_data.Title == close_match]['Unnamed: 0.1'].values[0]\n",
        "similarity_score = list(enumerate(simiarity[index_of_the_course]))\n",
        "sorted_similar_course = sorted(similarity_score, key = lambda x:x[1], reverse = True)\n",
        "# print the name of similar course based on the index\n",
        "\n",
        "print('Course suggested for you : \\n')\n",
        "\n",
        "i = 1\n",
        "\n",
        "for course in sorted_similar_course:\n",
        "  index = course[0]\n",
        "  title_from_index = course_data[course_data.index==index]['Title'].values[0]\n",
        "  if (i<10):\n",
        "    print(i, '.',title_from_index)\n",
        "    i+=1"
      ]
    },
    {
      "cell_type": "code",
      "execution_count": null,
      "id": "968f51da",
      "metadata": {
        "id": "968f51da"
      },
      "outputs": [],
      "source": []
    }
  ],
  "metadata": {
    "kernelspec": {
      "display_name": "Python 3 (ipykernel)",
      "language": "python",
      "name": "python3"
    },
    "language_info": {
      "codemirror_mode": {
        "name": "ipython",
        "version": 3
      },
      "file_extension": ".py",
      "mimetype": "text/x-python",
      "name": "python",
      "nbconvert_exporter": "python",
      "pygments_lexer": "ipython3",
      "version": "3.11.7"
    },
    "colab": {
      "provenance": []
    }
  },
  "nbformat": 4,
  "nbformat_minor": 5
}